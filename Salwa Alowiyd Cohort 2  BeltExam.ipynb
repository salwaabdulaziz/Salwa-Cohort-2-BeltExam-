{
 "cells": [
  {
   "cell_type": "code",
   "execution_count": null,
   "id": "7fca0150",
   "metadata": {},
   "outputs": [],
   "source": [
    "import numpy as np\n",
    "import pandas as pd\n",
    "import yfinance as yf\n",
    "from pandas_datareader import data as pdr\n",
    "yf.pdr_override()\n",
    "from matplotlib import pyplot as plt"
   ]
  },
  {
   "cell_type": "code",
   "execution_count": null,
   "id": "ec3bb6db",
   "metadata": {},
   "outputs": [],
   "source": [
    "df1= pdr.get_data_yahoo('AAPL', '2011-01-01', '2021-10-31')\n",
    "df1= df1[['Open', 'Close']]\n",
    "df1= df1.rename(columns ={'Open':'Open_AAPL', 'Close':'Close_AAPL'})\n",
    "df2= pdr.get_data_yahoo('MSFT', '2011-01-01', '2021-10-31')\n",
    "df2= df2[['Open', 'Close']]\n",
    "df2= df2.rename(columns ={'Open':'Open_MSFT', 'Close': 'Close_MSFT'})\n",
    "df= df1.merge(df2, on='Date')\n",
    "df"
   ]
  },
  {
   "cell_type": "code",
   "execution_count": null,
   "id": "530fb028",
   "metadata": {},
   "outputs": [],
   "source": [
    "df3= pdr.get_data_yahoo('TSLA', '2011-01-01', '2021-10-31')\n",
    "df3= df3[['Open', 'Close']]\n",
    "df3= df3.rename(columns ={'Open':'Open_TSLA', 'Close': 'Close_TSLA'})\n",
    "df4= pdr.get_data_yahoo('AMZN', '2011-01-01', '2021-10-31')\n",
    "df4= df4[['Open', 'Close']]\n",
    "df4= df4.rename(columns ={'Open':'Open_AMZN', 'Close': 'Close_AMZN'})\n",
    "df= df3.merge(df4, on='Date')\n",
    "df5= pdr.get_data_yahoo('NIO', '2011-01-01', '2021-10-31')\n",
    "df5= df5[['Open', 'Close']]\n",
    "df5= df5.rename(columns ={'Open':'Open_NIO', 'Close': 'Close_NIO'})\n",
    "df"
   ]
  },
  {
   "cell_type": "code",
   "execution_count": null,
   "id": "c144189f",
   "metadata": {},
   "outputs": [],
   "source": [
    "three_years= df.loc['2011-01-01':'2013-12-31']\n",
    "three_years= three_years[['Close_AAPL', 'Close_MSFT', 'Close_TSLA', 'Close_AMZN', 'Close_NIO']]\n",
    "three_years['Return_AAPL'] = three_years['Close_AAPL'].pct_change()\n",
    "three_years['Return_MSFT'] = three_years['Close_MSFT'].pct_change()\n",
    "three_years['Return_TSLA'] = three_years['Close_TSLA'].pct_change()\n",
    "three_years['Return_AMZN'] = three_years['Close_AMZN'].pct_change()\n",
    "three_years['Return_NIO'] = three_years['Close_NIO'].pct_change()\n",
    "three_years= three_years[['Return_AAPL', 'Return_MSFT', 'Return_TSLA', 'Return_AMZN', 'Return_NIO']]\n",
    "three_years= three_years.dropna()\n",
    "three_years"
   ]
  },
  {
   "cell_type": "code",
   "execution_count": null,
   "id": "e4b4e131",
   "metadata": {},
   "outputs": [],
   "source": [
    "#df_merged = pd.merge(df_AAPL, df_MSFT, on=\"Date\", how=\"inner\")\n",
    "#df_merged = df_merged[[\"Date\", \"Price_x\", \"Price_y\"]]\n",
    "#df_merged = df_merged.rename(columns= {\"Price_x\": \"AAPL\", \"Price_y\": \"MSFT\"})\n",
    "#df_merged = pd.merge(df_merged, df_TSLA, on=\"Date\", how=\"inner\")\n",
    "#df_merged = df_merged[[\"Date\", \"AAPL\", \"MSFT\", \"Price\"]]\n",
    "#df_merged = df_merged.rename(columns= {\"Price\": \"TSLA\"})\n",
    "#df_merged = pd.merge(df_merged, df_AMZN, on=\"Date\", how=\"inner\")\n",
    "#df_merged = df_merged[[\"AAPL\", \"MSFT\",\"TSLA\", \"Price\"]]\n",
    "#df_merged = df_merged.rename(columns= {\"Price\": \"AMZN\"})\n",
    "\n",
    "\n",
    "#df_merged[\"AAPL_return\"] = (df_merged.AAPL-df_merged.AAPL.shift(1)) / (df_merged.AAPL.shift(1))\n",
    "#df_merged\n",
    "\n",
    "#df_merged[\"MSFT_return\"] = (df_merged.MSFT-df_merged.MSFT.shift(1)) / (df_merged.MSFT.shift(1))\n",
    "#df_merged\n",
    "\n",
    "#df_merged[\"TSLA_return\"] = (df_merged.TSLA-df_merged.TSLA.shift(1)) / (df_merged.TSLA.shift(1))\n",
    "#df_merged\n",
    "\n",
    "#df_merged[\"AMZN_return\"] = (df_merged.AMZN-df_merged.AMZN.shift(1)) / (df_merged.AMZN.shift(1))\n",
    "#df_merged\n",
    "\n",
    "#df_merged = df_merged[[\"AAPL_return\", \"MSFT_return\", \"TSLA_return\" , \"AMZN_return\"]]\n",
    "\n",
    "\n",
    "#df_merged.dropna()"
   ]
  },
  {
   "cell_type": "code",
   "execution_count": null,
   "id": "63771c94",
   "metadata": {},
   "outputs": [],
   "source": [
    "matrix_of_return_values= np.asmatrix(three_years)\n",
    "matrix_of_return_values= matrix_of_return_values.T\n",
    "\n",
    "no_of_asset_classes = 5\n",
    "no_of_portfolios = 10000\n",
    "collection_of_random_asset_weights = []\n",
    "portfolio_means = []\n",
    "portfolio_standard_deviations = []\n",
    "portfolio_sharpe_ratios = []\n",
    "\n",
    "def get_random_asset_weights(no_of_asset_classes):\n",
    "    random_asset_weights = np.random.rand(no_of_asset_classes)\n",
    "    random_asset_weights /= sum(random_asset_weights)\n",
    "    random_asset_weights = np.asmatrix(random_asset_weights)  \n",
    "    return random_asset_weights\n",
    "\n",
    "def get_portfolio_statistics(asset_weights, matrix_of_return_values):\n",
    "    asset_means = np.asmatrix(np.mean(matrix_of_return_values, axis = 1))\n",
    "    asset_covariances = np.asmatrix(np.cov(matrix_of_return_values))\n",
    "    portfolio_mean = asset_weights * asset_means\n",
    "    portfolio_mean = portfolio_mean.item()\n",
    "    portfolio_standard_deviation = np.sqrt(asset_weights * asset_covariances * asset_weights.T)\n",
    "    portfolio_standard_deviation = portfolio_standard_deviation.item()\n",
    "    portfolio_sharpe_ratio = portfolio_mean / portfolio_standard_deviation\n",
    "    return portfolio_mean, portfolio_standard_deviation, portfolio_sharpe_ratio\n",
    "\n",
    "\n",
    "while len(collection_of_random_asset_weights) < no_of_portfolios:\n",
    "    random_asset_weights = get_random_asset_weights(no_of_asset_classes)\n",
    "    collection_of_random_asset_weights.append(random_asset_weights) \n",
    "    #A,B,C= get_portfolio_statistics(random_asset_weights, matrix_of_return_values)\n",
    "    #portfolio_means.append(A)\n",
    "    #portfolio_standard_deviations.append(B)\n",
    "    #portfolio_sharpe_ratios.append(C)\n",
    "    portfolio_means.append(get_portfolio_statistics(random_asset_weights, matrix_of_return_values)[0])\n",
    "    portfolio_standard_deviations.append(get_portfolio_statistics(random_asset_weights, matrix_of_return_values)[1])\n",
    "    portfolio_sharpe_ratios.append(get_portfolio_statistics(random_asset_weights, matrix_of_return_values)[2])\n",
    "    \n",
    "index= portfolio_sharpe_ratios.index(max(portfolio_sharpe_ratios))\n",
    "print(collection_of_random_asset_weights[index])"
   ]
  },
  {
   "cell_type": "code",
   "execution_count": null,
   "id": "1afe7969",
   "metadata": {},
   "outputs": [],
   "source": [
    "some_weights= pd.DataFrame({'AAPL': [0.2], 'MSFT': [0.2], 'TSLA': [0.2], 'AMZN': [0.2], 'NIO': [0.2]}, index= [three_years.last_valid_index()])\n",
    "some_weights"
   ]
  },
  {
   "cell_type": "code",
   "execution_count": null,
   "id": "577ca35f",
   "metadata": {},
   "outputs": [],
   "source": [
    "capital= 10000\n",
    "allocations= capital*some_weights\n",
    "allocations"
   ]
  },
  {
   "cell_type": "code",
   "execution_count": null,
   "id": "5984c884",
   "metadata": {},
   "outputs": [],
   "source": [
    "print(df['Close_AAPL'].loc[some_weights.last_valid_index()])\n",
    "print(df['Close_MSFT'].loc[some_weights.last_valid_index()])\n",
    "print(df['Close_TSLA'].loc[some_weights.last_valid_index()])\n",
    "print(df['Close_AMZN'].loc[some_weights.last_valid_index()])\n",
    "print(df['Close_NIO'].loc[some_weights.last_valid_index()])\n",
    "\n",
    "no_of_shares= allocations\n",
    "no_of_shares['AAPL'].iloc[0] /= df['Close_AAPL'].loc[some_weights.last_valid_index()]\n",
    "no_of_shares['MSFT'].iloc[0] /= df['Close_MSFT'].loc[some_weights.last_valid_index()]\n",
    "no_of_shares['TSLA'].iloc[0] /= df['Close_TSLA'].loc[some_weights.last_valid_index()]\n",
    "no_of_shares['AMZN'].iloc[0] /= df['Close_AMZN'].loc[some_weights.last_valid_index()]\n",
    "no_of_shares['NIO'].iloc[0] /= df['Close_NIO'].loc[some_weights.last_valid_index()]\n",
    "\n",
    "no_of_shares"
   ]
  },
  {
   "cell_type": "code",
   "execution_count": null,
   "id": "bbdd50a3",
   "metadata": {},
   "outputs": [],
   "source": [
    "plt.plot(portfolio_standard_deviations, portfolio_means, 'o', markersize = 3, color = 'lightskyblue')\n",
    "plt.show()"
   ]
  },
  {
   "cell_type": "code",
   "execution_count": null,
   "id": "7fef6784",
   "metadata": {},
   "outputs": [],
   "source": [
    "Give a complete conceptual description of the\n",
    "meaning of the Sharpe ratio as it relates to the\n",
    "theory of portfolio optimization. Why do portfolio\n",
    "managers seek to maximize this measure?"
   ]
  },
  {
   "cell_type": "code",
   "execution_count": null,
   "id": "2a397598",
   "metadata": {},
   "outputs": [],
   "source": [
    "Sharpe Ratio is a measurement of risk-adjusted return of a portfolio. \n",
    "It describes how much excess return you receive for the extra volatility you endure for holding a riskier asset. \n",
    "Its formula is: Investment = the average rate of return(mean)subtracted from the best available rate of return(risk-free)divided by standard deviation. \n",
    "The Sharpe ratio can help to determine the investment choice that will deliver the highest returns while considering risk among the options available. \n",
    "Adding diversification should increase the Sharpe ratio.\n",
    "\n",
    "*Why do portfolio managers seek to maximize this measure?\n",
    "To maximize the investments' expected return within an appropriate level of risk exposure and allows a manager to recognize better ways to allocate resources with the goal of increasing profits. \n",
    "\n",
    "To sum up, the ratio gives the investor an idea of how much extra returns he is earning in the volatile market for holding a riskier asset. \n",
    "The whole idea behind calculating the Sharpe ratio is to know the compensation an investor is getting for the additional risk he is bearing for not holding a risk free asset."
   ]
  }
 ],
 "metadata": {
  "kernelspec": {
   "display_name": "Python 3",
   "language": "python",
   "name": "python3"
  },
  "language_info": {
   "codemirror_mode": {
    "name": "ipython",
    "version": 3
   },
   "file_extension": ".py",
   "mimetype": "text/x-python",
   "name": "python",
   "nbconvert_exporter": "python",
   "pygments_lexer": "ipython3",
   "version": "3.8.8"
  }
 },
 "nbformat": 4,
 "nbformat_minor": 5
}
